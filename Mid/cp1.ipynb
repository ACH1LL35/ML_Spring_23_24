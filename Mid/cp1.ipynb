{
  "nbformat": 4,
  "nbformat_minor": 0,
  "metadata": {
    "colab": {
      "provenance": []
    },
    "kernelspec": {
      "name": "python3",
      "display_name": "Python 3"
    },
    "language_info": {
      "name": "python"
    }
  },
  "cells": [
    {
      "cell_type": "code",
      "execution_count": 47,
      "metadata": {
        "id": "4iq9nXKkJW7K"
      },
      "outputs": [],
      "source": [
        "import matplotlib.pyplot as plt\n",
        "import random\n",
        "import math"
      ]
    },
    {
      "cell_type": "code",
      "source": [
        "X1 = [0,0,1,1]\n",
        "X2 = [0,1,0,1]\n",
        "Y = [0,1,1,1]"
      ],
      "metadata": {
        "id": "pgyldbikLorm"
      },
      "execution_count": 48,
      "outputs": []
    },
    {
      "cell_type": "code",
      "source": [
        "\n",
        "\n",
        "plt.figure()\n",
        "\n",
        "for i in range(len(Y)):\n",
        "    if Y[i] == 0:\n",
        "        plt.plot(X1[i], X2[i], \"ro\")\n",
        "    else:\n",
        "        plt.plot(X1[i], X2[i], \"go\")\n",
        "\n",
        "plt.show()"
      ],
      "metadata": {
        "colab": {
          "base_uri": "https://localhost:8080/",
          "height": 430
        },
        "id": "-w6X0oS9L8al",
        "outputId": "31e99428-e83a-4284-aae7-65b5ff4ce450"
      },
      "execution_count": 49,
      "outputs": [
        {
          "output_type": "display_data",
          "data": {
            "text/plain": [
              "<Figure size 640x480 with 1 Axes>"
            ],
            "image/png": "[encoded data removed]"
          },
          "metadata": {}
        }
      ]
    },
    {
      "cell_type": "code",
      "source": [
        "W = [random.random(), random.random()]\n",
        "b = random.random()\n",
        "\n",
        "print(W, b)\n",
        "\n",
        "lr=0.02\n",
        "theta=0.5"
      ],
      "metadata": {
        "colab": {
          "base_uri": "https://localhost:8080/"
        },
        "id": "F2vZnlzIMS6f",
        "outputId": "b9343973-cac1-4a9f-c043-cd8d17944bcc"
      },
      "execution_count": 50,
      "outputs": [
        {
          "output_type": "stream",
          "name": "stdout",
          "text": [
            "[0.3521635328862026, 0.5331853296237289] 0.5749377957459091\n"
          ]
        }
      ]
    },
    {
      "cell_type": "code",
      "source": [
        "epoch = 0\n",
        "count = 0\n",
        "\n",
        "while count < 4:\n",
        "\n",
        "    total_error = 0\n",
        "    print(f\"Epoch: {epoch}\")\n",
        "    for i in range(len(X1)):\n",
        "        weighted_sum = W[0]*X1[i] + W[1]*X2[i] + b\n",
        "        pred = 0\n",
        "        if weighted_sum > theta:\n",
        "            pred = 1\n",
        "\n",
        "        error =  Y[i] - pred\n",
        "        if error != 0:\n",
        "            count = 0\n",
        "            total_error += math.sqrt(error**2)\n",
        "\n",
        "            W[0] += lr * error * X1[i]\n",
        "            W[1] += lr * error * X2[i]\n",
        "            b    += lr * error\n",
        "        else:\n",
        "            count += 1\n",
        "\n",
        "        print(f\"[{X1[i]} , {X2[i]}] = {pred}\")\n",
        "\n",
        "    print(f\"Loss: {total_error}\")\n",
        "    print(\"===------------------------------===\")\n",
        "    epoch += 1"
      ],
      "metadata": {
        "colab": {
          "base_uri": "https://localhost:8080/"
        },
        "id": "Cz4rA0a5MsY1",
        "outputId": "b3edf149-c06b-418a-ba24-36ff5122c129"
      },
      "execution_count": 51,
      "outputs": [
        {
          "output_type": "stream",
          "name": "stdout",
          "text": [
            "Epoch: 0\n",
            "[0 , 0] = 1\n",
            "[0 , 1] = 1\n",
            "[1 , 0] = 1\n",
            "[1 , 1] = 1\n",
            "Loss: 1.0\n",
            "===------------------------------===\n",
            "Epoch: 1\n",
            "[0 , 0] = 1\n",
            "[0 , 1] = 1\n",
            "[1 , 0] = 1\n",
            "[1 , 1] = 1\n",
            "Loss: 1.0\n",
            "===------------------------------===\n",
            "Epoch: 2\n",
            "[0 , 0] = 1\n",
            "[0 , 1] = 1\n",
            "[1 , 0] = 1\n",
            "[1 , 1] = 1\n",
            "Loss: 1.0\n",
            "===------------------------------===\n",
            "Epoch: 3\n",
            "[0 , 0] = 1\n",
            "[0 , 1] = 1\n",
            "[1 , 0] = 1\n",
            "[1 , 1] = 1\n",
            "Loss: 1.0\n",
            "===------------------------------===\n",
            "Epoch: 4\n",
            "[0 , 0] = 0\n",
            "[0 , 1] = 1\n",
            "[1 , 0] = 1\n",
            "[1 , 1] = 1\n",
            "Loss: 0\n",
            "===------------------------------===\n"
          ]
        }
      ]
    },
    {
      "cell_type": "code",
      "source": [
        "print(\"W0 = \", W[0])\n",
        "print(\"W1 = \", W[1])\n",
        "print(\"b = \", b)"
      ],
      "metadata": {
        "colab": {
          "base_uri": "https://localhost:8080/"
        },
        "id": "YUI46fVWNNRc",
        "outputId": "47c4d167-cb0a-4fc7-9280-698e7a10eeb1"
      },
      "execution_count": 52,
      "outputs": [
        {
          "output_type": "stream",
          "name": "stdout",
          "text": [
            "W0 =  0.3521635328862026\n",
            "W1 =  0.5331853296237289\n",
            "b =  0.494937795745909\n"
          ]
        }
      ]
    },
    {
      "cell_type": "code",
      "source": [
        "plt.figure()\n",
        "\n",
        "for i in range(len(Y)):\n",
        "    if Y[i] == 0:\n",
        "        plt.plot(X1[i], X2[i], \"ro\")\n",
        "    else:\n",
        "        plt.plot(X1[i], X2[i], \"go\")\n",
        "\n",
        "\n",
        "xintr=(theta-b)/W[0]\n",
        "yintr=(theta-b)/W[1]\n",
        "\n",
        "slope=-yintr/xintr\n",
        "xx=plt.xlim()\n",
        "yeq = []\n",
        "for x in xx:\n",
        "    yeq.append(slope*x+yintr)\n",
        "plt.plot(xx,yeq)\n",
        "plt.show()"
      ],
      "metadata": {
        "colab": {
          "base_uri": "https://localhost:8080/",
          "height": 430
        },
        "id": "UgSo-9ufNUfX",
        "outputId": "66a0e596-5a4f-430c-ac8e-eb8647eca622"
      },
      "execution_count": 53,
      "outputs": [
        {
          "output_type": "display_data",
          "data": {
            "text/plain": [
              "<Figure size 640x480 with 1 Axes>"
            ],
            "image/png": "[encoded data removed]"
          },
          "metadata": {}
        }
      ]
    },
    {
      "cell_type": "code",
      "source": [
        "import matplotlib.pyplot as plt\n",
        "import numpy as np\n",
        "import random\n",
        "import math\n",
        "from IPython import display\n",
        "\n",
        "X1 = [0,0,1,1]\n",
        "X2 = [0,1,0,1]\n",
        "# Y  = [0,0,0,1] # AND\n",
        "Y  = [0,1,1,1] # OR\n",
        "# Y  = [0,1,1,0] # XOR\n",
        "\n",
        "W = [random.random(), random.random()]\n",
        "b = random.random()\n",
        "\n",
        "# W = [random.uniform(-1,1), random.uniform(-1,1)]\n",
        "# b = random.uniform(-1,1)\n",
        "\n",
        "lr=0.01\n",
        "theta=0.5\n",
        "epoch = 0\n",
        "count = 0\n",
        "\n",
        "loss = []\n",
        "while count < 4:\n",
        "\n",
        "    total_error = 0\n",
        "    for i in range(len(X1)):\n",
        "        weighted_sum = W[0]*X1[i] + W[1]*X2[i] + b\n",
        "        pred = 0\n",
        "        if weighted_sum > theta:\n",
        "            pred = 1\n",
        "\n",
        "        error =  Y[i] - pred\n",
        "        if error != 0:\n",
        "            count = 0\n",
        "            total_error += math.sqrt(error**2)\n",
        "\n",
        "            W[0] += lr * error * X1[i]\n",
        "            W[1] += lr * error * X2[i]\n",
        "            b    += lr * error\n",
        "\n",
        "        else:\n",
        "            count += 1\n",
        "    loss.append(1/4*total_error)\n",
        "\n",
        "    plt.figure(figsize=(20,5))\n",
        "    display.clear_output(wait=True)\n",
        "    plt.subplot(1,2,1)\n",
        "    for i in range(len(Y)):\n",
        "        if Y[i] == 0:\n",
        "            plt.plot(X1[i], X2[i], \"ro\")\n",
        "        else:\n",
        "            plt.plot(X1[i], X2[i], \"go\")\n",
        "    plt.xlim([-1, 2])\n",
        "    plt.ylim([-1, 2])\n",
        "\n",
        "    xintr=(theta-b)/W[0]\n",
        "    yintr=(theta-b)/W[1]\n",
        "\n",
        "    slope=-yintr/xintr\n",
        "    xx=plt.xlim()\n",
        "\n",
        "    yeq = []\n",
        "    for x in xx:\n",
        "        yeq.append(slope*x+yintr)\n",
        "    plt.plot(xx,yeq)\n",
        "\n",
        "\n",
        "    plt.subplot(1,2,2)\n",
        "    plt.plot(loss)\n",
        "\n",
        "    plt.show()\n",
        "\n",
        "    epoch += 1"
      ],
      "metadata": {
        "colab": {
          "base_uri": "https://localhost:8080/",
          "height": 400
        },
        "id": "ZzIKpICbNag-",
        "outputId": "f2b2fbf0-2d62-4bd0-ddbc-3113530bd162"
      },
      "execution_count": 54,
      "outputs": [
        {
          "output_type": "display_data",
          "data": {
            "text/plain": [
              "<Figure size 2000x500 with 2 Axes>"
            ],
            "image/png": "[encoded data removed]"
          },
          "metadata": {}
        }
      ]
    },
    {
      "cell_type": "code",
      "source": [
        "from google.colab import drive\n",
        "drive.mount('/content/drive')"
      ],
      "metadata": {
        "colab": {
          "base_uri": "https://localhost:8080/"
        },
        "id": "SEC3Fwx7N4je",
        "outputId": "d30658d4-8029-47f5-afbb-4cf3a7547375"
      },
      "execution_count": 55,
      "outputs": [
        {
          "output_type": "stream",
          "name": "stdout",
          "text": [
            "Drive already mounted at /content/drive; to attempt to forcibly remount, call drive.mount(\"/content/drive\", force_remount=True).\n"
          ]
        }
      ]
    },
    {
      "cell_type": "code",
      "source": [
        "import pandas as pd\n",
        "\n",
        "Dataset = pd.read_csv('/content/drive/MyDrive/Dataset/data.csv')\n",
        "Dataset.head()"
      ],
      "metadata": {
        "colab": {
          "base_uri": "https://localhost:8080/",
          "height": 206
        },
        "id": "gC4HFGE9Pfb7",
        "outputId": "49f3bfa0-0756-41eb-dcdb-92b1229bc57b"
      },
      "execution_count": 56,
      "outputs": [
        {
          "output_type": "execute_result",
          "data": {
            "text/plain": [
              "    X   Y  LABEL\n",
              "0  56   9     68\n",
              "1  16  49     16\n",
              "2  53   0     20\n",
              "3  75  96     29\n",
              "4  35  74     98"
            ],
            "text/html": [
              "\n",
              "  <div id=\"df-59af6239-bdbe-4e64-b3f3-181dc90b9495\" class=\"colab-df-container\">\n",
              "    <div>\n",
              "<style scoped>\n",
              "    .dataframe tbody tr th:only-of-type {\n",
              "        vertical-align: middle;\n",
              "    }\n",
              "\n",
              "    .dataframe tbody tr th {\n",
              "        vertical-align: top;\n",
              "    }\n",
              "\n",
              "    .dataframe thead th {\n",
              "        text-align: right;\n",
              "    }\n",
              "</style>\n",
              "<table border=\"1\" class=\"dataframe\">\n",
              "  <thead>\n",
              "    <tr style=\"text-align: right;\">\n",
              "      <th></th>\n",
              "      <th>X</th>\n",
              "      <th>Y</th>\n",
              "      <th>LABEL</th>\n",
              "    </tr>\n",
              "  </thead>\n",
              "  <tbody>\n",
              "    <tr>\n",
              "      <th>0</th>\n",
              "      <td>56</td>\n",
              "      <td>9</td>\n",
              "      <td>68</td>\n",
              "    </tr>\n",
              "    <tr>\n",
              "      <th>1</th>\n",
              "      <td>16</td>\n",
              "      <td>49</td>\n",
              "      <td>16</td>\n",
              "    </tr>\n",
              "    <tr>\n",
              "      <th>2</th>\n",
              "      <td>53</td>\n",
              "      <td>0</td>\n",
              "      <td>20</td>\n",
              "    </tr>\n",
              "    <tr>\n",
              "      <th>3</th>\n",
              "      <td>75</td>\n",
              "      <td>96</td>\n",
              "      <td>29</td>\n",
              "    </tr>\n",
              "    <tr>\n",
              "      <th>4</th>\n",
              "      <td>35</td>\n",
              "      <td>74</td>\n",
              "      <td>98</td>\n",
              "    </tr>\n",
              "  </tbody>\n",
              "</table>\n",
              "</div>\n",
              "    <div class=\"colab-df-buttons\">\n",
              "\n",
              "  <div class=\"colab-df-container\">\n",
              "    <button class=\"colab-df-convert\" onclick=\"convertToInteractive('df-59af6239-bdbe-4e64-b3f3-181dc90b9495')\"\n",
              "            title=\"Convert this dataframe to an interactive table.\"\n",
              "            style=\"display:none;\">\n",
              "\n",
              "  <svg xmlns=\"http://www.w3.org/2000/svg\" height=\"24px\" viewBox=\"0 -960 960 960\">\n",
              "    <path d=\"M120-120v-720h720v720H120Zm60-500h600v-160H180v160Zm220 220h160v-160H400v160Zm0 220h160v-160H400v160ZM180-400h160v-160H180v160Zm440 0h160v-160H620v160ZM180-180h160v-160H180v160Zm440 0h160v-160H620v160Z\"/>\n",
              "  </svg>\n",
              "    </button>\n",
              "\n",
              "  <style>\n",
              "    .colab-df-container {\n",
              "      display:flex;\n",
              "      gap: 12px;\n",
              "    }\n",
              "\n",
              "    .colab-df-convert {\n",
              "      background-color: #E8F0FE;\n",
              "      border: none;\n",
              "      border-radius: 50%;\n",
              "      cursor: pointer;\n",
              "      display: none;\n",
              "      fill: #1967D2;\n",
              "      height: 32px;\n",
              "      padding: 0 0 0 0;\n",
              "      width: 32px;\n",
              "    }\n",
              "\n",
              "    .colab-df-convert:hover {\n",
              "      background-color: #E2EBFA;\n",
              "      box-shadow: 0px 1px 2px rgba(60, 64, 67, 0.3), 0px 1px 3px 1px rgba(60, 64, 67, 0.15);\n",
              "      fill: #174EA6;\n",
              "    }\n",
              "\n",
              "    .colab-df-buttons div {\n",
              "      margin-bottom: 4px;\n",
              "    }\n",
              "\n",
              "    [theme=dark] .colab-df-convert {\n",
              "      background-color: #3B4455;\n",
              "      fill: #D2E3FC;\n",
              "    }\n",
              "\n",
              "    [theme=dark] .colab-df-convert:hover {\n",
              "      background-color: #434B5C;\n",
              "      box-shadow: 0px 1px 3px 1px rgba(0, 0, 0, 0.15);\n",
              "      filter: drop-shadow(0px 1px 2px rgba(0, 0, 0, 0.3));\n",
              "      fill: #FFFFFF;\n",
              "    }\n",
              "  </style>\n",
              "\n",
              "    <script>\n",
              "      const buttonEl =\n",
              "        document.querySelector('#df-59af6239-bdbe-4e64-b3f3-181dc90b9495 button.colab-df-convert');\n",
              "      buttonEl.style.display =\n",
              "        google.colab.kernel.accessAllowed ? 'block' : 'none';\n",
              "\n",
              "      async function convertToInteractive(key) {\n",
              "        const element = document.querySelector('#df-59af6239-bdbe-4e64-b3f3-181dc90b9495');\n",
              "        const dataTable =\n",
              "          await google.colab.kernel.invokeFunction('convertToInteractive',\n",
              "                                                    [key], {});\n",
              "        if (!dataTable) return;\n",
              "\n",
              "        const docLinkHtml = 'Like what you see? Visit the ' +\n",
              "          '<a target=\"_blank\" href=https://colab.research.google.com/notebooks/data_table.ipynb>data table notebook</a>'\n",
              "          + ' to learn more about interactive tables.';\n",
              "        element.innerHTML = '';\n",
              "        dataTable['output_type'] = 'display_data';\n",
              "        await google.colab.output.renderOutput(dataTable, element);\n",
              "        const docLink = document.createElement('div');\n",
              "        docLink.innerHTML = docLinkHtml;\n",
              "        element.appendChild(docLink);\n",
              "      }\n",
              "    </script>\n",
              "  </div>\n",
              "\n",
              "\n",
              "<div id=\"df-ba2e5b16-74df-4641-b5e2-a362b88f76b6\">\n",
              "  <button class=\"colab-df-quickchart\" onclick=\"quickchart('df-ba2e5b16-74df-4641-b5e2-a362b88f76b6')\"\n",
              "            title=\"Suggest charts\"\n",
              "            style=\"display:none;\">\n",
              "\n",
              "<svg xmlns=\"http://www.w3.org/2000/svg\" height=\"24px\"viewBox=\"0 0 24 24\"\n",
              "     width=\"24px\">\n",
              "    <g>\n",
              "        <path d=\"M19 3H5c-1.1 0-2 .9-2 2v14c0 1.1.9 2 2 2h14c1.1 0 2-.9 2-2V5c0-1.1-.9-2-2-2zM9 17H7v-7h2v7zm4 0h-2V7h2v10zm4 0h-2v-4h2v4z\"/>\n",
              "    </g>\n",
              "</svg>\n",
              "  </button>\n",
              "\n",
              "<style>\n",
              "  .colab-df-quickchart {\n",
              "      --bg-color: #E8F0FE;\n",
              "      --fill-color: #1967D2;\n",
              "      --hover-bg-color: #E2EBFA;\n",
              "      --hover-fill-color: #174EA6;\n",
              "      --disabled-fill-color: #AAA;\n",
              "      --disabled-bg-color: #DDD;\n",
              "  }\n",
              "\n",
              "  [theme=dark] .colab-df-quickchart {\n",
              "      --bg-color: #3B4455;\n",
              "      --fill-color: #D2E3FC;\n",
              "      --hover-bg-color: #434B5C;\n",
              "      --hover-fill-color: #FFFFFF;\n",
              "      --disabled-bg-color: #3B4455;\n",
              "      --disabled-fill-color: #666;\n",
              "  }\n",
              "\n",
              "  .colab-df-quickchart {\n",
              "    background-color: var(--bg-color);\n",
              "    border: none;\n",
              "    border-radius: 50%;\n",
              "    cursor: pointer;\n",
              "    display: none;\n",
              "    fill: var(--fill-color);\n",
              "    height: 32px;\n",
              "    padding: 0;\n",
              "    width: 32px;\n",
              "  }\n",
              "\n",
              "  .colab-df-quickchart:hover {\n",
              "    background-color: var(--hover-bg-color);\n",
              "    box-shadow: 0 1px 2px rgba(60, 64, 67, 0.3), 0 1px 3px 1px rgba(60, 64, 67, 0.15);\n",
              "    fill: var(--button-hover-fill-color);\n",
              "  }\n",
              "\n",
              "  .colab-df-quickchart-complete:disabled,\n",
              "  .colab-df-quickchart-complete:disabled:hover {\n",
              "    background-color: var(--disabled-bg-color);\n",
              "    fill: var(--disabled-fill-color);\n",
              "    box-shadow: none;\n",
              "  }\n",
              "\n",
              "  .colab-df-spinner {\n",
              "    border: 2px solid var(--fill-color);\n",
              "    border-color: transparent;\n",
              "    border-bottom-color: var(--fill-color);\n",
              "    animation:\n",
              "      spin 1s steps(1) infinite;\n",
              "  }\n",
              "\n",
              "  @keyframes spin {\n",
              "    0% {\n",
              "      border-color: transparent;\n",
              "      border-bottom-color: var(--fill-color);\n",
              "      border-left-color: var(--fill-color);\n",
              "    }\n",
              "    20% {\n",
              "      border-color: transparent;\n",
              "      border-left-color: var(--fill-color);\n",
              "      border-top-color: var(--fill-color);\n",
              "    }\n",
              "    30% {\n",
              "      border-color: transparent;\n",
              "      border-left-color: var(--fill-color);\n",
              "      border-top-color: var(--fill-color);\n",
              "      border-right-color: var(--fill-color);\n",
              "    }\n",
              "    40% {\n",
              "      border-color: transparent;\n",
              "      border-right-color: var(--fill-color);\n",
              "      border-top-color: var(--fill-color);\n",
              "    }\n",
              "    60% {\n",
              "      border-color: transparent;\n",
              "      border-right-color: var(--fill-color);\n",
              "    }\n",
              "    80% {\n",
              "      border-color: transparent;\n",
              "      border-right-color: var(--fill-color);\n",
              "      border-bottom-color: var(--fill-color);\n",
              "    }\n",
              "    90% {\n",
              "      border-color: transparent;\n",
              "      border-bottom-color: var(--fill-color);\n",
              "    }\n",
              "  }\n",
              "</style>\n",
              "\n",
              "  <script>\n",
              "    async function quickchart(key) {\n",
              "      const quickchartButtonEl =\n",
              "        document.querySelector('#' + key + ' button');\n",
              "      quickchartButtonEl.disabled = true;  // To prevent multiple clicks.\n",
              "      quickchartButtonEl.classList.add('colab-df-spinner');\n",
              "      try {\n",
              "        const charts = await google.colab.kernel.invokeFunction(\n",
              "            'suggestCharts', [key], {});\n",
              "      } catch (error) {\n",
              "        console.error('Error during call to suggestCharts:', error);\n",
              "      }\n",
              "      quickchartButtonEl.classList.remove('colab-df-spinner');\n",
              "      quickchartButtonEl.classList.add('colab-df-quickchart-complete');\n",
              "    }\n",
              "    (() => {\n",
              "      let quickchartButtonEl =\n",
              "        document.querySelector('#df-ba2e5b16-74df-4641-b5e2-a362b88f76b6 button');\n",
              "      quickchartButtonEl.style.display =\n",
              "        google.colab.kernel.accessAllowed ? 'block' : 'none';\n",
              "    })();\n",
              "  </script>\n",
              "</div>\n",
              "\n",
              "    </div>\n",
              "  </div>\n"
            ]
          },
          "metadata": {},
          "execution_count": 56
        }
      ]
    },
    {
      "cell_type": "code",
      "source": [
        "X1 = Dataset[\"X\"].values.tolist()\n",
        "X2 = Dataset[\"Y\"].values.tolist()\n",
        "Y = Dataset[\"LABEL\"].values.tolist()\n",
        "\n",
        "for i in range(len(Y)):\n",
        "    if Y[i] == 0:\n",
        "        plt.plot(X1[i], X2[i], \"r+\")\n",
        "    else:\n",
        "        plt.plot(X1[i], X2[i], \"g+\")"
      ],
      "metadata": {
        "colab": {
          "base_uri": "https://localhost:8080/",
          "height": 430
        },
        "id": "fHzh29TBRHSW",
        "outputId": "8be59cc1-e0c4-4a6f-b29d-f1a203324d16"
      },
      "execution_count": 57,
      "outputs": [
        {
          "output_type": "display_data",
          "data": {
            "text/plain": [
              "<Figure size 640x480 with 1 Axes>"
            ],
            "image/png": "[encoded data removed]"
          },
          "metadata": {}
        }
      ]
    }
  ]
}